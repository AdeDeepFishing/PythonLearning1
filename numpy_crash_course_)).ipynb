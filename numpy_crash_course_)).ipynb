{
  "nbformat": 4,
  "nbformat_minor": 0,
  "metadata": {
    "colab": {
      "provenance": [],
      "authorship_tag": "ABX9TyPQGkWexOCflx1tbnaGmGdV",
      "include_colab_link": true
    },
    "kernelspec": {
      "name": "python3",
      "display_name": "Python 3"
    },
    "language_info": {
      "name": "python"
    }
  },
  "cells": [
    {
      "cell_type": "markdown",
      "metadata": {
        "id": "view-in-github",
        "colab_type": "text"
      },
      "source": [
        "<a href=\"https://colab.research.google.com/github/AdeDeepFishing/PythonLearning1/blob/main/numpy_crash_course_)).ipynb\" target=\"_parent\"><img src=\"https://colab.research.google.com/assets/colab-badge.svg\" alt=\"Open In Colab\"/></a>"
      ]
    },
    {
      "cell_type": "code",
      "execution_count": 4,
      "metadata": {
        "colab": {
          "base_uri": "https://localhost:8080/"
        },
        "id": "CkyQsiXlfU-x",
        "outputId": "d4caa65a-baad-43be-a4ba-859b3753f66b"
      },
      "outputs": [
        {
          "output_type": "stream",
          "name": "stdout",
          "text": [
            "[1 2 3]\n",
            "[0 2 4 6 8]\n",
            "[0.   0.25 0.5  0.75 1.  ]\n"
          ]
        }
      ],
      "source": [
        "import numpy as np\n",
        "\n",
        "\n",
        "#creating array\n",
        "\n",
        "a=np.array([1,2,3])\n",
        "b=np.arange(0,10,2)\n",
        "c=np.linspace(0,1,5)\n",
        "\n",
        "print(a)\n",
        "print(b)\n",
        "print(c)"
      ]
    },
    {
      "cell_type": "code",
      "source": [
        "#indexing & slicing\n",
        "\n",
        "arr=np.array([10,20,30,40,50])\n",
        "print(arr[0])\n",
        "print(arr[1:4])"
      ],
      "metadata": {
        "colab": {
          "base_uri": "https://localhost:8080/"
        },
        "id": "BGV4Bd5Cf3gZ",
        "outputId": "80e74fd2-0f16-4d33-e205-05b75210697b"
      },
      "execution_count": 5,
      "outputs": [
        {
          "output_type": "stream",
          "name": "stdout",
          "text": [
            "10\n",
            "[20 30 40]\n"
          ]
        }
      ]
    },
    {
      "cell_type": "code",
      "source": [
        "#elemet-wise operations\n",
        "\n",
        "a=np.array([1,2,3])\n",
        "b=np.array([10,20,30])\n",
        "print(a+b)\n",
        "print(a*b)"
      ],
      "metadata": {
        "colab": {
          "base_uri": "https://localhost:8080/"
        },
        "id": "bZ-qbS8sgVlM",
        "outputId": "4772067d-4051-42e5-92e8-0753c073b4b1"
      },
      "execution_count": 6,
      "outputs": [
        {
          "output_type": "stream",
          "name": "stdout",
          "text": [
            "[11 22 33]\n",
            "[10 40 90]\n"
          ]
        }
      ]
    },
    {
      "cell_type": "code",
      "source": [
        "#vectorized calculations\n",
        "x=np.array([1,2,3,4])\n",
        "squared=x**2\n",
        "print(squared)"
      ],
      "metadata": {
        "colab": {
          "base_uri": "https://localhost:8080/"
        },
        "id": "bx_8DJekg9s-",
        "outputId": "5ff5ed79-e165-4803-83d5-4dc8becf51ff"
      },
      "execution_count": 7,
      "outputs": [
        {
          "output_type": "stream",
          "name": "stdout",
          "text": [
            "[ 1  4  9 16]\n"
          ]
        }
      ]
    },
    {
      "cell_type": "code",
      "source": [
        "#aggregation fn\n",
        "arr=np.array([1,2,3,4,5])\n",
        "print(np.sum(arr))\n",
        "print(np.mean(arr))\n",
        "print(np.std(arr))\n",
        "print(np.max(arr))"
      ],
      "metadata": {
        "colab": {
          "base_uri": "https://localhost:8080/"
        },
        "id": "oy7ivvJvkixB",
        "outputId": "d8674b4a-9e63-4bff-c4b2-9ff4359e1dbd"
      },
      "execution_count": 10,
      "outputs": [
        {
          "output_type": "stream",
          "name": "stdout",
          "text": [
            "15\n",
            "3.0\n",
            "1.4142135623730951\n",
            "5\n"
          ]
        }
      ]
    },
    {
      "cell_type": "code",
      "source": [
        "a=np.array([1,2,3])\n",
        "b=2\n",
        "print(a*b)"
      ],
      "metadata": {
        "colab": {
          "base_uri": "https://localhost:8080/"
        },
        "id": "SM9JXpe9mlEA",
        "outputId": "fde7826e-31dc-4e56-9ee4-0552ce50aee0"
      },
      "execution_count": 11,
      "outputs": [
        {
          "output_type": "stream",
          "name": "stdout",
          "text": [
            "[2 4 6]\n"
          ]
        }
      ]
    },
    {
      "cell_type": "code",
      "source": [
        "#moving arr\n",
        "arr=np.array([1,2,3,4,5])\n",
        "windowSize=3\n",
        "movingAvg=np.convolve(arr,np.ones(windowSize)/windowSize, mode=\"valid\")\n",
        "print(movingAvg)"
      ],
      "metadata": {
        "colab": {
          "base_uri": "https://localhost:8080/"
        },
        "id": "zAI5R1wJm3j8",
        "outputId": "a6c7e42a-1ecf-4f3e-c972-3b953c9c7b33"
      },
      "execution_count": 13,
      "outputs": [
        {
          "output_type": "stream",
          "name": "stdout",
          "text": [
            "[2. 3. 4.]\n"
          ]
        }
      ]
    },
    {
      "cell_type": "code",
      "source": [
        "arr = np.array([10, 20, 30])\n",
        "normalized = (arr - np.min(arr)) / (np.max(arr) - np.min(arr))\n",
        "print(normalized)"
      ],
      "metadata": {
        "colab": {
          "base_uri": "https://localhost:8080/"
        },
        "id": "I5R6rIqNqDEW",
        "outputId": "b3334e97-2822-4ce8-9ce7-c94799db97f4"
      },
      "execution_count": 15,
      "outputs": [
        {
          "output_type": "stream",
          "name": "stdout",
          "text": [
            "[0.  0.5 1. ]\n"
          ]
        }
      ]
    },
    {
      "cell_type": "code",
      "source": [
        "arr = np.array([10, 12, 11, 100, 13])\n",
        "mean = np.mean(arr)\n",
        "std = np.std(arr)\n",
        "lowerBound=mean-1.5*std\n",
        "upperBound=mean+1.5*std\n",
        "print(upperBound)\n",
        "outliersMask = (arr < lowerBound) | (arr > upperBound)\n",
        "outliers=arr[outliersMask]\n",
        "print(outliers)"
      ],
      "metadata": {
        "colab": {
          "base_uri": "https://localhost:8080/"
        },
        "id": "vGh862g8siYE",
        "outputId": "fc463957-9bed-45df-a3d9-c51e3480dd6c"
      },
      "execution_count": 21,
      "outputs": [
        {
          "output_type": "stream",
          "name": "stdout",
          "text": [
            "82.32118221576022\n",
            "[100]\n"
          ]
        }
      ]
    },
    {
      "cell_type": "code",
      "source": [
        "arr=np.array([-1,2,3,-5])\n",
        "cleaned=arr[arr>=0]\n",
        "print(cleaned)"
      ],
      "metadata": {
        "colab": {
          "base_uri": "https://localhost:8080/"
        },
        "id": "TyyrAdlcvAHA",
        "outputId": "af47a42e-a962-414e-c1f5-7118d6aeef52"
      },
      "execution_count": 22,
      "outputs": [
        {
          "output_type": "stream",
          "name": "stdout",
          "text": [
            "[2 3]\n"
          ]
        }
      ]
    },
    {
      "cell_type": "code",
      "source": [
        "arr=np.arange(0,256)\n",
        "normalized= (arr-np.min(arr))/(np.max(arr)-np.min(arr))\n",
        "print(normalized)\n"
      ],
      "metadata": {
        "colab": {
          "base_uri": "https://localhost:8080/"
        },
        "id": "EObU-u5yssQW",
        "outputId": "7e7cff78-b6e1-45eb-da7b-a08c67fa9cf0"
      },
      "execution_count": 26,
      "outputs": [
        {
          "output_type": "stream",
          "name": "stdout",
          "text": [
            "[0.         0.00392157 0.00784314 0.01176471 0.01568627 0.01960784\n",
            " 0.02352941 0.02745098 0.03137255 0.03529412 0.03921569 0.04313725\n",
            " 0.04705882 0.05098039 0.05490196 0.05882353 0.0627451  0.06666667\n",
            " 0.07058824 0.0745098  0.07843137 0.08235294 0.08627451 0.09019608\n",
            " 0.09411765 0.09803922 0.10196078 0.10588235 0.10980392 0.11372549\n",
            " 0.11764706 0.12156863 0.1254902  0.12941176 0.13333333 0.1372549\n",
            " 0.14117647 0.14509804 0.14901961 0.15294118 0.15686275 0.16078431\n",
            " 0.16470588 0.16862745 0.17254902 0.17647059 0.18039216 0.18431373\n",
            " 0.18823529 0.19215686 0.19607843 0.2        0.20392157 0.20784314\n",
            " 0.21176471 0.21568627 0.21960784 0.22352941 0.22745098 0.23137255\n",
            " 0.23529412 0.23921569 0.24313725 0.24705882 0.25098039 0.25490196\n",
            " 0.25882353 0.2627451  0.26666667 0.27058824 0.2745098  0.27843137\n",
            " 0.28235294 0.28627451 0.29019608 0.29411765 0.29803922 0.30196078\n",
            " 0.30588235 0.30980392 0.31372549 0.31764706 0.32156863 0.3254902\n",
            " 0.32941176 0.33333333 0.3372549  0.34117647 0.34509804 0.34901961\n",
            " 0.35294118 0.35686275 0.36078431 0.36470588 0.36862745 0.37254902\n",
            " 0.37647059 0.38039216 0.38431373 0.38823529 0.39215686 0.39607843\n",
            " 0.4        0.40392157 0.40784314 0.41176471 0.41568627 0.41960784\n",
            " 0.42352941 0.42745098 0.43137255 0.43529412 0.43921569 0.44313725\n",
            " 0.44705882 0.45098039 0.45490196 0.45882353 0.4627451  0.46666667\n",
            " 0.47058824 0.4745098  0.47843137 0.48235294 0.48627451 0.49019608\n",
            " 0.49411765 0.49803922 0.50196078 0.50588235 0.50980392 0.51372549\n",
            " 0.51764706 0.52156863 0.5254902  0.52941176 0.53333333 0.5372549\n",
            " 0.54117647 0.54509804 0.54901961 0.55294118 0.55686275 0.56078431\n",
            " 0.56470588 0.56862745 0.57254902 0.57647059 0.58039216 0.58431373\n",
            " 0.58823529 0.59215686 0.59607843 0.6        0.60392157 0.60784314\n",
            " 0.61176471 0.61568627 0.61960784 0.62352941 0.62745098 0.63137255\n",
            " 0.63529412 0.63921569 0.64313725 0.64705882 0.65098039 0.65490196\n",
            " 0.65882353 0.6627451  0.66666667 0.67058824 0.6745098  0.67843137\n",
            " 0.68235294 0.68627451 0.69019608 0.69411765 0.69803922 0.70196078\n",
            " 0.70588235 0.70980392 0.71372549 0.71764706 0.72156863 0.7254902\n",
            " 0.72941176 0.73333333 0.7372549  0.74117647 0.74509804 0.74901961\n",
            " 0.75294118 0.75686275 0.76078431 0.76470588 0.76862745 0.77254902\n",
            " 0.77647059 0.78039216 0.78431373 0.78823529 0.79215686 0.79607843\n",
            " 0.8        0.80392157 0.80784314 0.81176471 0.81568627 0.81960784\n",
            " 0.82352941 0.82745098 0.83137255 0.83529412 0.83921569 0.84313725\n",
            " 0.84705882 0.85098039 0.85490196 0.85882353 0.8627451  0.86666667\n",
            " 0.87058824 0.8745098  0.87843137 0.88235294 0.88627451 0.89019608\n",
            " 0.89411765 0.89803922 0.90196078 0.90588235 0.90980392 0.91372549\n",
            " 0.91764706 0.92156863 0.9254902  0.92941176 0.93333333 0.9372549\n",
            " 0.94117647 0.94509804 0.94901961 0.95294118 0.95686275 0.96078431\n",
            " 0.96470588 0.96862745 0.97254902 0.97647059 0.98039216 0.98431373\n",
            " 0.98823529 0.99215686 0.99607843 1.        ]\n"
          ]
        }
      ]
    },
    {
      "cell_type": "code",
      "source": [
        "arr=np.full((5,5),1)\n",
        "arr[1:-1,1:-1]=0\n",
        "print(arr)"
      ],
      "metadata": {
        "colab": {
          "base_uri": "https://localhost:8080/"
        },
        "id": "ESZfuLrTgdSb",
        "outputId": "8fd88382-c00b-4849-8220-dc09e5b80d84"
      },
      "execution_count": 5,
      "outputs": [
        {
          "output_type": "stream",
          "name": "stdout",
          "text": [
            "[[1 1 1 1 1]\n",
            " [1 0 0 0 1]\n",
            " [1 0 0 0 1]\n",
            " [1 0 0 0 1]\n",
            " [1 1 1 1 1]]\n"
          ]
        }
      ]
    },
    {
      "cell_type": "code",
      "source": [],
      "metadata": {
        "id": "uZV3Ta2l1Fsl"
      },
      "execution_count": null,
      "outputs": []
    }
  ]
}